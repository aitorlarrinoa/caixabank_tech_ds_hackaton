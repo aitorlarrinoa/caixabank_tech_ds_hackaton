{
 "cells": [
  {
   "cell_type": "markdown",
   "id": "14f5964a",
   "metadata": {},
   "source": [
    "## Import necessary libraries"
   ]
  },
  {
   "cell_type": "code",
   "execution_count": 1,
   "id": "51dd0ff3",
   "metadata": {},
   "outputs": [],
   "source": [
    "import pandas as pd\n",
    "import seaborn as sns\n",
    "import matplotlib.pyplot as plt\n",
    "\n",
    "import numpy as np"
   ]
  },
  {
   "cell_type": "code",
   "execution_count": 2,
   "id": "dd10e26b",
   "metadata": {},
   "outputs": [],
   "source": [
    "from sklearn.model_selection import train_test_split, RandomizedSearchCV\n",
    "from sklearn.ensemble import RandomForestClassifier\n",
    "from xgboost import XGBClassifier\n",
    "import lightgbm as lgb\n",
    "\n",
    "from sklearn.metrics import roc_curve\n",
    "from sklearn.metrics import classification_report, f1_score, confusion_matrix, recall_score, precision_score, accuracy_score, roc_auc_score"
   ]
  },
  {
   "cell_type": "code",
   "execution_count": 3,
   "id": "dad4b771",
   "metadata": {},
   "outputs": [],
   "source": [
    "from sklearn.pipeline import Pipeline"
   ]
  },
  {
   "cell_type": "code",
   "execution_count": 4,
   "id": "7934ce8e",
   "metadata": {},
   "outputs": [],
   "source": [
    "import warnings\n",
    "warnings.filterwarnings(\"ignore\")"
   ]
  },
  {
   "cell_type": "markdown",
   "id": "eb660308",
   "metadata": {},
   "source": [
    "## Funciones utilizadas en el notebook"
   ]
  },
  {
   "cell_type": "code",
   "execution_count": 5,
   "id": "b2e78368",
   "metadata": {},
   "outputs": [],
   "source": [
    "def rellenar_missings(df : pd.DataFrame, price_col : str, target_col : str, days : int) -> pd.DataFrame:\n",
    "    \"\"\"\n",
    "    Esta función se encarga de rellenar los valores missing que se encuentran en la columna\n",
    "    del precio en un data frame de pandas. Los valores missing son rellenados calculando la \n",
    "    media entre el valor anterior y el posterior ya que se trata de una variable continua.\n",
    "    Después, la variable target debe ser modificada en consecuencia a los valores que se hayan\n",
    "    decidido introducir en los huecos de valores nulos.\n",
    "    \n",
    "    Parámetros:\n",
    "    \n",
    "    - df: Un pandas data frame que debe contener una columna target y una columna de precios.\n",
    "    - price_col: El nombre de la columna de precios.\n",
    "    - target_col: El nombre de la columna target.\n",
    "    - days: El número de días que se tiene en cuenta para determinar si el precio sube o baja.\n",
    "    \n",
    "    Devuelve:\n",
    "    \n",
    "    - df: El df resultante después de la modificación de los valores missing.\n",
    "    \n",
    "    \"\"\"\n",
    "    \n",
    "    assert price_col in df.columns and target_col in df.columns, f\"Las columnas {price_col} y {target_col} no se encuentran en el data frame\"\n",
    "    \n",
    "    df = df[[price_col, target_col]]\n",
    "    \n",
    "    num_missings = df[price_col].isna().sum()\n",
    "    \n",
    "    assert num_missings > 0, f\"No se encontraron valores missing en la columna {price_col}\"\n",
    "    \n",
    "    for i in np.arange(len(df)-days, days-1, -1):\n",
    "        if pd.isnull(df[price_col][i]):\n",
    "            precio_ref = df[price_col].iloc[i-days]\n",
    "            target_ref = df[target_col].iloc[i-days]\n",
    "            aprox_precio = (df[price_col].iloc[i-1] + df[price_col].iloc[i+1])/2\n",
    "            if target_ref == 0:\n",
    "                if aprox_precio <= precio_ref:\n",
    "                    val = aprox_precio\n",
    "                else:\n",
    "                    # elegimos un valor menor que precio_ref para que se cumpla la condición\n",
    "                    # de target_ref==0\n",
    "                    val = precio_ref-1\n",
    "\n",
    "            elif target_ref == 1:\n",
    "                if aprox_precio > precio_ref:\n",
    "                    val = aprox_precio\n",
    "                else:\n",
    "                    # elegimos un valor mayor que precio_ref para que se cumpla la condición\n",
    "                    # de target_ref==1\n",
    "                    val = precio_ref+1\n",
    "            \n",
    "            # cambiamos el valor.\n",
    "            df[price_col].iloc[i] = val\n",
    "            \n",
    "            # finalmente modificamos la variable target para que todo cuadre correctamente.\n",
    "            if val < df[price_col].iloc[i+days]:\n",
    "                df[target_col].iloc[i] = 1\n",
    "            else:\n",
    "                df[target_col].iloc[i] = 0\n",
    "            \n",
    "            \n",
    "    return df"
   ]
  },
  {
   "cell_type": "code",
   "execution_count": 6,
   "id": "9f3a5995",
   "metadata": {},
   "outputs": [],
   "source": [
    "def target_correcto(df : pd.DataFrame, price_col : str, target_col : str, days : int):\n",
    "    \"\"\"\n",
    "    Esta función comprueba que la variable target está correctamente definida.\n",
    "    \n",
    "    Parámetros:\n",
    "    \n",
    "    - df: Un pandas data frame que debe contener una columna target y una columna de precios.\n",
    "    - price_col: El nombre de la columna de precios.\n",
    "    - target_col: El nombre de la columna target.\n",
    "    - days: El número de días que se tiene en cuenta para determinar si el precio sube o baja.\n",
    "    \n",
    "    Devuelve:\n",
    "    \n",
    "    - True o False: True en caso de que esté correctamente definida y False en caso contrario.\n",
    "    \n",
    "    \"\"\"\n",
    "    for i in range(days-1, len(df[price_col])-days):\n",
    "        if df[target_col].iloc[i-days] == 0 and df[price_col].iloc[i] > df[price_col].iloc[i-days]:\n",
    "            return False\n",
    "        elif df[target_col].iloc[i-days] == 1 and df[price_col].iloc[i] <= df[price_col].iloc[i-days]:\n",
    "            return False\n",
    "        elif df[target_col].iloc[i] == 0 and df[price_col].iloc[i+days] > df[price_col].iloc[i]:\n",
    "            return False\n",
    "        elif df[target_col].iloc[i] == 1 and df[price_col].iloc[i+days] <= df[price_col].iloc[i]:\n",
    "            return False\n",
    "    return True"
   ]
  },
  {
   "cell_type": "code",
   "execution_count": 7,
   "id": "3af0994e",
   "metadata": {},
   "outputs": [],
   "source": [
    "def maximize_scores(pred_proba, y_val) -> pd.DataFrame:\n",
    "    \"\"\"\n",
    "    Esta función calcula las métricas f1, acccuracy y recall para diferentes thresholds\n",
    "    considerados. en este caso se considerarán 100.\n",
    "    \n",
    "    Parámetros:\n",
    "    \n",
    "    - pred_proba: predicciones probabilísticas devueltas por el modelo.\n",
    "    - y_val: conjunto y de validación.\n",
    "    \n",
    "    Devuelve:\n",
    "    \n",
    "    - df : un data frame en el cual sus columnas son los valores de las métricas y sus filas\n",
    "           indican el valor de cada una asociada a un threshold\n",
    "    \"\"\"\n",
    "    \n",
    "    precision = list()\n",
    "    F1 = list()\n",
    "    accuracy = list()\n",
    "    recall = list()\n",
    "    \n",
    "    for threshold in np.arange(0, 1.01, 0.01):\n",
    "        pred_proba = pd.DataFrame(pred_proba)[1]\n",
    "        predictions = pred_proba.map(lambda x : 1 if x >= threshold else 0)\n",
    "        \n",
    "        \n",
    "        f1 = f1_score(y_val, predictions)\n",
    "        F1.append(f1)\n",
    "        ac = accuracy_score(y_val, predictions)\n",
    "        accuracy.append(ac)\n",
    "        rec = recall_score(y_val, predictions)\n",
    "        recall.append(rec)\n",
    "\n",
    "    data = {'F1': F1, \"accuracy\" :accuracy, 'recall':recall}\n",
    "    df = pd.DataFrame(data, columns=[\"F1\", 'accuracy', \"recall\"])\n",
    "    df.index = np.arange(0, 1.01, 0.01)\n",
    "\n",
    "    return df"
   ]
  },
  {
   "cell_type": "code",
   "execution_count": 8,
   "id": "e8230e25",
   "metadata": {},
   "outputs": [],
   "source": [
    "def model(xtrain, ytrain, xtest, modelo : str, ytest):\n",
    "    \"\"\"\n",
    "    Esta función es responsable de evaluar un modelo en los datos de train y test.\n",
    "    A parte de lo que devuelve, esta función también despliega la matriz de confusión\n",
    "    normalizada y la curva roc.\n",
    "    \n",
    "    Parámetros:\n",
    "    \n",
    "    - xtrain: el conjunto x de train.\n",
    "    - ytrain: el conjunto y de train.\n",
    "    - xtest: el conjunto x de test.\n",
    "    - modelo: el nombre del modelo. \n",
    "    - ytest: el conjunto y de test.\n",
    "    \n",
    "    Devuelve: \n",
    "    \n",
    "    - predictions: las predicciones del modelo.\n",
    "    - predictions_proba: las predicciones probabilísticas del modelo.\n",
    "    \n",
    "    \"\"\"\n",
    "    \n",
    "    model = modelo\n",
    "    model.fit(xtrain, ytrain)\n",
    "    predictions = model.predict(xtest)\n",
    "    predictions_proba = model.predict_proba(xtest)\n",
    "    print(classification_report(ytest,predictions))\n",
    "    \n",
    "    # matrices de cinfusión absoluta y normalizada\n",
    "    cm_norm = confusion_matrix(ytest, predictions, normalize=\"true\")\n",
    "\n",
    "    plt.figure(figsize=(5,5))\n",
    "    sns.heatmap(cm_norm, annot=True, fmt=\".3f\", linewidths=1, square = True, cmap = 'Blues_r');\n",
    "    plt.ylabel('Actual label');\n",
    "    plt.xlabel('Predicted label');\n",
    "    plt.title(\"Normalized confusion matrix\")\n",
    "    \n",
    "    # curva roc\n",
    "    plt.figure(figsize=(5,3))\n",
    "    yhat = predictions_proba[:, 1]\n",
    "    fpr, tpr, thresholds = roc_curve(ytest, yhat)\n",
    "    plt.plot([0,1], [0,1], linestyle='--', label='No Skill')\n",
    "    plt.plot(fpr, tpr, marker='.', label='')\n",
    "    plt.xlabel('False Positive Rate') \n",
    "    plt.ylabel('True Positive Rate')\n",
    "    plt.legend()\n",
    "    plt.show()\n",
    "    \n",
    "    return predictions, predictions_proba"
   ]
  },
  {
   "cell_type": "markdown",
   "id": "be85a0ac",
   "metadata": {},
   "source": [
    "### Lectura de los datos"
   ]
  },
  {
   "cell_type": "code",
   "execution_count": 9,
   "id": "7be6bad4",
   "metadata": {},
   "outputs": [
    {
     "data": {
      "text/html": [
       "<div>\n",
       "<style scoped>\n",
       "    .dataframe tbody tr th:only-of-type {\n",
       "        vertical-align: middle;\n",
       "    }\n",
       "\n",
       "    .dataframe tbody tr th {\n",
       "        vertical-align: top;\n",
       "    }\n",
       "\n",
       "    .dataframe thead th {\n",
       "        text-align: right;\n",
       "    }\n",
       "</style>\n",
       "<table border=\"1\" class=\"dataframe\">\n",
       "  <thead>\n",
       "    <tr style=\"text-align: right;\">\n",
       "      <th></th>\n",
       "      <th>Date</th>\n",
       "      <th>Open</th>\n",
       "      <th>High</th>\n",
       "      <th>Low</th>\n",
       "      <th>Close</th>\n",
       "      <th>Adj Close</th>\n",
       "      <th>Volume</th>\n",
       "      <th>Target</th>\n",
       "    </tr>\n",
       "  </thead>\n",
       "  <tbody>\n",
       "    <tr>\n",
       "      <th>0</th>\n",
       "      <td>1994-01-03</td>\n",
       "      <td>3615.199951</td>\n",
       "      <td>3654.699951</td>\n",
       "      <td>3581.000000</td>\n",
       "      <td>3654.500000</td>\n",
       "      <td>3654.496338</td>\n",
       "      <td>0.0</td>\n",
       "      <td>0</td>\n",
       "    </tr>\n",
       "    <tr>\n",
       "      <th>1</th>\n",
       "      <td>1994-01-04</td>\n",
       "      <td>3654.500000</td>\n",
       "      <td>3675.500000</td>\n",
       "      <td>3625.100098</td>\n",
       "      <td>3630.300049</td>\n",
       "      <td>3630.296387</td>\n",
       "      <td>0.0</td>\n",
       "      <td>1</td>\n",
       "    </tr>\n",
       "    <tr>\n",
       "      <th>2</th>\n",
       "      <td>1994-01-05</td>\n",
       "      <td>3625.199951</td>\n",
       "      <td>3625.199951</td>\n",
       "      <td>3583.399902</td>\n",
       "      <td>3621.199951</td>\n",
       "      <td>3621.196289</td>\n",
       "      <td>0.0</td>\n",
       "      <td>1</td>\n",
       "    </tr>\n",
       "    <tr>\n",
       "      <th>3</th>\n",
       "      <td>1994-01-06</td>\n",
       "      <td>NaN</td>\n",
       "      <td>NaN</td>\n",
       "      <td>NaN</td>\n",
       "      <td>NaN</td>\n",
       "      <td>NaN</td>\n",
       "      <td>NaN</td>\n",
       "      <td>0</td>\n",
       "    </tr>\n",
       "    <tr>\n",
       "      <th>4</th>\n",
       "      <td>1994-01-07</td>\n",
       "      <td>3621.199951</td>\n",
       "      <td>3644.399902</td>\n",
       "      <td>3598.699951</td>\n",
       "      <td>3636.399902</td>\n",
       "      <td>3636.396240</td>\n",
       "      <td>0.0</td>\n",
       "      <td>1</td>\n",
       "    </tr>\n",
       "  </tbody>\n",
       "</table>\n",
       "</div>"
      ],
      "text/plain": [
       "         Date         Open         High          Low        Close  \\\n",
       "0  1994-01-03  3615.199951  3654.699951  3581.000000  3654.500000   \n",
       "1  1994-01-04  3654.500000  3675.500000  3625.100098  3630.300049   \n",
       "2  1994-01-05  3625.199951  3625.199951  3583.399902  3621.199951   \n",
       "3  1994-01-06          NaN          NaN          NaN          NaN   \n",
       "4  1994-01-07  3621.199951  3644.399902  3598.699951  3636.399902   \n",
       "\n",
       "     Adj Close  Volume  Target  \n",
       "0  3654.496338     0.0       0  \n",
       "1  3630.296387     0.0       1  \n",
       "2  3621.196289     0.0       1  \n",
       "3          NaN     NaN       0  \n",
       "4  3636.396240     0.0       1  "
      ]
     },
     "execution_count": 9,
     "metadata": {},
     "output_type": "execute_result"
    }
   ],
   "source": [
    "train_data = pd.read_csv('../data/train.csv')\n",
    "train_data.head()"
   ]
  },
  {
   "cell_type": "markdown",
   "id": "43275408",
   "metadata": {},
   "source": [
    "## EDA de los datos"
   ]
  },
  {
   "cell_type": "markdown",
   "id": "1bd6afb1",
   "metadata": {},
   "source": [
    "En esta ocasión trataremos de entender mejor los datos. Para ello, primeramente, veamos el tamaño de nuestros datos de training."
   ]
  },
  {
   "cell_type": "code",
   "execution_count": 10,
   "id": "4cebe327",
   "metadata": {},
   "outputs": [
    {
     "data": {
      "text/plain": [
       "(6554, 8)"
      ]
     },
     "execution_count": 10,
     "metadata": {},
     "output_type": "execute_result"
    }
   ],
   "source": [
    "train_data.shape"
   ]
  },
  {
   "cell_type": "markdown",
   "id": "d9b6d532",
   "metadata": {},
   "source": [
    "Como hemos podido observar anteriormente, los datos están compuests por las variables Date, Open, High, Low, Close, AdjClose, Volume y Target. En este caso, puesto que nuestro objetivo es ver si el precio del IBEX aumenta a 3 días, únicamente nos quedaremos con las variables AdjClose (Precio de cierre), Date y Target ya que las demás variables no interesan en este caso de uso. "
   ]
  },
  {
   "cell_type": "code",
   "execution_count": 11,
   "id": "6a484629",
   "metadata": {},
   "outputs": [
    {
     "data": {
      "text/html": [
       "<div>\n",
       "<style scoped>\n",
       "    .dataframe tbody tr th:only-of-type {\n",
       "        vertical-align: middle;\n",
       "    }\n",
       "\n",
       "    .dataframe tbody tr th {\n",
       "        vertical-align: top;\n",
       "    }\n",
       "\n",
       "    .dataframe thead th {\n",
       "        text-align: right;\n",
       "    }\n",
       "</style>\n",
       "<table border=\"1\" class=\"dataframe\">\n",
       "  <thead>\n",
       "    <tr style=\"text-align: right;\">\n",
       "      <th></th>\n",
       "      <th>Date</th>\n",
       "      <th>Adj Close</th>\n",
       "      <th>Target</th>\n",
       "    </tr>\n",
       "  </thead>\n",
       "  <tbody>\n",
       "    <tr>\n",
       "      <th>0</th>\n",
       "      <td>1994-01-03</td>\n",
       "      <td>3654.496338</td>\n",
       "      <td>0</td>\n",
       "    </tr>\n",
       "    <tr>\n",
       "      <th>1</th>\n",
       "      <td>1994-01-04</td>\n",
       "      <td>3630.296387</td>\n",
       "      <td>1</td>\n",
       "    </tr>\n",
       "    <tr>\n",
       "      <th>2</th>\n",
       "      <td>1994-01-05</td>\n",
       "      <td>3621.196289</td>\n",
       "      <td>1</td>\n",
       "    </tr>\n",
       "    <tr>\n",
       "      <th>3</th>\n",
       "      <td>1994-01-06</td>\n",
       "      <td>NaN</td>\n",
       "      <td>0</td>\n",
       "    </tr>\n",
       "    <tr>\n",
       "      <th>4</th>\n",
       "      <td>1994-01-07</td>\n",
       "      <td>3636.396240</td>\n",
       "      <td>1</td>\n",
       "    </tr>\n",
       "    <tr>\n",
       "      <th>5</th>\n",
       "      <td>1994-01-10</td>\n",
       "      <td>3660.596436</td>\n",
       "      <td>1</td>\n",
       "    </tr>\n",
       "    <tr>\n",
       "      <th>6</th>\n",
       "      <td>1994-01-11</td>\n",
       "      <td>3712.396240</td>\n",
       "      <td>1</td>\n",
       "    </tr>\n",
       "    <tr>\n",
       "      <th>7</th>\n",
       "      <td>1994-01-12</td>\n",
       "      <td>3680.096436</td>\n",
       "      <td>1</td>\n",
       "    </tr>\n",
       "    <tr>\n",
       "      <th>8</th>\n",
       "      <td>1994-01-13</td>\n",
       "      <td>3680.796387</td>\n",
       "      <td>1</td>\n",
       "    </tr>\n",
       "    <tr>\n",
       "      <th>9</th>\n",
       "      <td>1994-01-14</td>\n",
       "      <td>3736.395996</td>\n",
       "      <td>1</td>\n",
       "    </tr>\n",
       "  </tbody>\n",
       "</table>\n",
       "</div>"
      ],
      "text/plain": [
       "         Date    Adj Close  Target\n",
       "0  1994-01-03  3654.496338       0\n",
       "1  1994-01-04  3630.296387       1\n",
       "2  1994-01-05  3621.196289       1\n",
       "3  1994-01-06          NaN       0\n",
       "4  1994-01-07  3636.396240       1\n",
       "5  1994-01-10  3660.596436       1\n",
       "6  1994-01-11  3712.396240       1\n",
       "7  1994-01-12  3680.096436       1\n",
       "8  1994-01-13  3680.796387       1\n",
       "9  1994-01-14  3736.395996       1"
      ]
     },
     "execution_count": 11,
     "metadata": {},
     "output_type": "execute_result"
    }
   ],
   "source": [
    "train_data = train_data[['Date', 'Adj Close', 'Target']]\n",
    "train_data.head(10)"
   ]
  },
  {
   "cell_type": "markdown",
   "id": "35791bd1",
   "metadata": {},
   "source": [
    "Ahora, vamos a comporbar que efectivamente tenemos todas las fechas en nuestros datos de training."
   ]
  },
  {
   "cell_type": "code",
   "execution_count": 12,
   "id": "61589e87",
   "metadata": {},
   "outputs": [
    {
     "data": {
      "text/html": [
       "<div>\n",
       "<style scoped>\n",
       "    .dataframe tbody tr th:only-of-type {\n",
       "        vertical-align: middle;\n",
       "    }\n",
       "\n",
       "    .dataframe tbody tr th {\n",
       "        vertical-align: top;\n",
       "    }\n",
       "\n",
       "    .dataframe thead th {\n",
       "        text-align: right;\n",
       "    }\n",
       "</style>\n",
       "<table border=\"1\" class=\"dataframe\">\n",
       "  <thead>\n",
       "    <tr style=\"text-align: right;\">\n",
       "      <th></th>\n",
       "      <th>Adj Close</th>\n",
       "      <th>Target</th>\n",
       "    </tr>\n",
       "    <tr>\n",
       "      <th>Date</th>\n",
       "      <th></th>\n",
       "      <th></th>\n",
       "    </tr>\n",
       "  </thead>\n",
       "  <tbody>\n",
       "    <tr>\n",
       "      <th>1994-01-03</th>\n",
       "      <td>3654.496338</td>\n",
       "      <td>0</td>\n",
       "    </tr>\n",
       "    <tr>\n",
       "      <th>1994-01-04</th>\n",
       "      <td>3630.296387</td>\n",
       "      <td>1</td>\n",
       "    </tr>\n",
       "    <tr>\n",
       "      <th>1994-01-05</th>\n",
       "      <td>3621.196289</td>\n",
       "      <td>1</td>\n",
       "    </tr>\n",
       "    <tr>\n",
       "      <th>1994-01-06</th>\n",
       "      <td>NaN</td>\n",
       "      <td>0</td>\n",
       "    </tr>\n",
       "    <tr>\n",
       "      <th>1994-01-07</th>\n",
       "      <td>3636.396240</td>\n",
       "      <td>1</td>\n",
       "    </tr>\n",
       "  </tbody>\n",
       "</table>\n",
       "</div>"
      ],
      "text/plain": [
       "              Adj Close  Target\n",
       "Date                           \n",
       "1994-01-03  3654.496338       0\n",
       "1994-01-04  3630.296387       1\n",
       "1994-01-05  3621.196289       1\n",
       "1994-01-06          NaN       0\n",
       "1994-01-07  3636.396240       1"
      ]
     },
     "execution_count": 12,
     "metadata": {},
     "output_type": "execute_result"
    }
   ],
   "source": [
    "train_data.index = train_data['Date']\n",
    "train_data.drop('Date', axis=1, inplace=True)\n",
    "train_data.head()"
   ]
  },
  {
   "cell_type": "markdown",
   "id": "db57368e",
   "metadata": {},
   "source": [
    "#### Missing values?"
   ]
  },
  {
   "cell_type": "code",
   "execution_count": 13,
   "id": "1e32a731",
   "metadata": {},
   "outputs": [
    {
     "data": {
      "text/plain": [
       "133"
      ]
     },
     "execution_count": 13,
     "metadata": {},
     "output_type": "execute_result"
    }
   ],
   "source": [
    "train_data['Adj Close'].isna().sum()"
   ]
  },
  {
   "cell_type": "markdown",
   "id": "59000a40",
   "metadata": {},
   "source": [
    "Tenemos un total de 133 datos que son valores nulos, luego debemos corregirlo. Y, cómo lo vamos a hacer? Pues, lo haremos teniendo en cuenta la variable target. Si tenemos un valor missing en una fila, deberemos ver el valor target 3 filas anterior para determinar si ese valor ha de ser mayor o menor que el valor asociado a la fila del target."
   ]
  },
  {
   "cell_type": "markdown",
   "id": "c9de8dce",
   "metadata": {},
   "source": [
    "Esto lo haremos con la función definida al principio del notebook."
   ]
  },
  {
   "cell_type": "code",
   "execution_count": 14,
   "id": "1704d72e",
   "metadata": {},
   "outputs": [],
   "source": [
    "train_data = rellenar_missings(train_data, 'Adj Close', 'Target', 3)"
   ]
  },
  {
   "cell_type": "code",
   "execution_count": 15,
   "id": "fcb7e614",
   "metadata": {},
   "outputs": [
    {
     "data": {
      "text/plain": [
       "Adj Close    8\n",
       "Target       0\n",
       "dtype: int64"
      ]
     },
     "execution_count": 15,
     "metadata": {},
     "output_type": "execute_result"
    }
   ],
   "source": [
    "train_data.isna().sum()"
   ]
  },
  {
   "cell_type": "markdown",
   "id": "4966e11a",
   "metadata": {},
   "source": [
    "Aun así, observamos que hay filas con valores nulos. Veamos qué filas son:"
   ]
  },
  {
   "cell_type": "code",
   "execution_count": 16,
   "id": "e3b305a8",
   "metadata": {},
   "outputs": [
    {
     "data": {
      "text/html": [
       "<div>\n",
       "<style scoped>\n",
       "    .dataframe tbody tr th:only-of-type {\n",
       "        vertical-align: middle;\n",
       "    }\n",
       "\n",
       "    .dataframe tbody tr th {\n",
       "        vertical-align: top;\n",
       "    }\n",
       "\n",
       "    .dataframe thead th {\n",
       "        text-align: right;\n",
       "    }\n",
       "</style>\n",
       "<table border=\"1\" class=\"dataframe\">\n",
       "  <thead>\n",
       "    <tr style=\"text-align: right;\">\n",
       "      <th></th>\n",
       "      <th>Adj Close</th>\n",
       "      <th>Target</th>\n",
       "    </tr>\n",
       "    <tr>\n",
       "      <th>Date</th>\n",
       "      <th></th>\n",
       "      <th></th>\n",
       "    </tr>\n",
       "  </thead>\n",
       "  <tbody>\n",
       "    <tr>\n",
       "      <th>1997-01-06</th>\n",
       "      <td>NaN</td>\n",
       "      <td>0</td>\n",
       "    </tr>\n",
       "    <tr>\n",
       "      <th>1998-01-06</th>\n",
       "      <td>NaN</td>\n",
       "      <td>0</td>\n",
       "    </tr>\n",
       "    <tr>\n",
       "      <th>1999-01-06</th>\n",
       "      <td>NaN</td>\n",
       "      <td>0</td>\n",
       "    </tr>\n",
       "    <tr>\n",
       "      <th>2001-12-31</th>\n",
       "      <td>NaN</td>\n",
       "      <td>0</td>\n",
       "    </tr>\n",
       "    <tr>\n",
       "      <th>2002-12-31</th>\n",
       "      <td>NaN</td>\n",
       "      <td>0</td>\n",
       "    </tr>\n",
       "    <tr>\n",
       "      <th>2003-01-06</th>\n",
       "      <td>NaN</td>\n",
       "      <td>0</td>\n",
       "    </tr>\n",
       "    <tr>\n",
       "      <th>2003-12-31</th>\n",
       "      <td>NaN</td>\n",
       "      <td>0</td>\n",
       "    </tr>\n",
       "    <tr>\n",
       "      <th>2004-01-06</th>\n",
       "      <td>NaN</td>\n",
       "      <td>0</td>\n",
       "    </tr>\n",
       "  </tbody>\n",
       "</table>\n",
       "</div>"
      ],
      "text/plain": [
       "            Adj Close  Target\n",
       "Date                         \n",
       "1997-01-06        NaN       0\n",
       "1998-01-06        NaN       0\n",
       "1999-01-06        NaN       0\n",
       "2001-12-31        NaN       0\n",
       "2002-12-31        NaN       0\n",
       "2003-01-06        NaN       0\n",
       "2003-12-31        NaN       0\n",
       "2004-01-06        NaN       0"
      ]
     },
     "execution_count": 16,
     "metadata": {},
     "output_type": "execute_result"
    }
   ],
   "source": [
    "rows_with_na = train_data.isnull().any(axis=1)\n",
    "train_data[rows_with_na]"
   ]
  },
  {
   "cell_type": "markdown",
   "id": "e73f4490",
   "metadata": {},
   "source": [
    "podemos observar que los valores nulos en este caso se dan en días de fiesta como puede ser el 6 de enero o el 31 de diciembre. Veamos si existe por ejemplo la fecha 2002-01-06 en nuestros datos."
   ]
  },
  {
   "cell_type": "code",
   "execution_count": 17,
   "id": "855f1d53",
   "metadata": {},
   "outputs": [
    {
     "data": {
      "text/plain": [
       "False"
      ]
     },
     "execution_count": 17,
     "metadata": {},
     "output_type": "execute_result"
    }
   ],
   "source": [
    "'2002-01-06' in train_data.index"
   ]
  },
  {
   "cell_type": "markdown",
   "id": "443ee689",
   "metadata": {},
   "source": [
    "Comprobamos que no. Luego, parece que las fechas que tenemos con valores nulos se han colado. Sin embargo, no podemos eliminar dichas filas ya que destruiríamos el esquema de la variable Target. Luego, volvamos a ejecutar la función nuevamente para que pueda rellenar esos nulos que nos quedan."
   ]
  },
  {
   "cell_type": "code",
   "execution_count": 18,
   "id": "76cfa422",
   "metadata": {},
   "outputs": [],
   "source": [
    "train_data = rellenar_missings(train_data, 'Adj Close', 'Target', 3)"
   ]
  },
  {
   "cell_type": "code",
   "execution_count": 19,
   "id": "78bd0aa5",
   "metadata": {},
   "outputs": [
    {
     "data": {
      "text/plain": [
       "Adj Close    0\n",
       "Target       0\n",
       "dtype: int64"
      ]
     },
     "execution_count": 19,
     "metadata": {},
     "output_type": "execute_result"
    }
   ],
   "source": [
    "train_data.isna().sum()"
   ]
  },
  {
   "cell_type": "markdown",
   "id": "9ce28310",
   "metadata": {},
   "source": [
    "#### Datos duplicados?"
   ]
  },
  {
   "cell_type": "markdown",
   "id": "33eda49b",
   "metadata": {},
   "source": [
    "Veamos si existe alguna fecha duplicada."
   ]
  },
  {
   "cell_type": "code",
   "execution_count": 20,
   "id": "70745b46",
   "metadata": {},
   "outputs": [
    {
     "data": {
      "text/plain": [
       "0"
      ]
     },
     "execution_count": 20,
     "metadata": {},
     "output_type": "execute_result"
    }
   ],
   "source": [
    "train_data.index.duplicated(keep=False).sum()"
   ]
  },
  {
   "cell_type": "markdown",
   "id": "95c3220c",
   "metadata": {},
   "source": [
    "No tenemos fechas duplicadas, genial"
   ]
  },
  {
   "cell_type": "markdown",
   "id": "7c8db77f",
   "metadata": {},
   "source": [
    "#### Plot de los datos"
   ]
  },
  {
   "cell_type": "markdown",
   "id": "0326e321",
   "metadata": {},
   "source": [
    "Una vez tenemos los datos sin ningún valor missing, procedemos a dibujar nuestra serie temporal."
   ]
  },
  {
   "cell_type": "code",
   "execution_count": 21,
   "id": "dad82978",
   "metadata": {},
   "outputs": [
    {
     "data": {
      "image/png": "[encoded data removed]",
      "text/plain": [
       "<Figure size 936x432 with 1 Axes>"
      ]
     },
     "metadata": {},
     "output_type": "display_data"
    }
   ],
   "source": [
    "sns.set(rc = {\"figure.figsize\":(13,6)}) # Definimos el tamaño de la imagen\n",
    "ax = train_data[['Adj Close']].plot(linestyle = '-')\n",
    "ax.set_ylabel(\"Precio de cierre del IBEX\") # Añadimos título al eje y \n",
    "ax.set_xlabel(\"Fechas diarias\"); # Añadimos título al eje x"
   ]
  },
  {
   "cell_type": "markdown",
   "id": "ce5e5578",
   "metadata": {},
   "source": [
    "Podemos observar la evoluación de nuestra serie temporal no tiene, a priori, ningún valor atípico raro. Luego, podemos concluir que la serie está correctamente definida. "
   ]
  },
  {
   "cell_type": "markdown",
   "id": "7556c001",
   "metadata": {},
   "source": [
    "Para comprobar que efectivamente la variable Target está bien definida, utilizaremos una función que nos ayudará a determinarlo."
   ]
  },
  {
   "cell_type": "code",
   "execution_count": 22,
   "id": "82d618c6",
   "metadata": {},
   "outputs": [
    {
     "data": {
      "text/plain": [
       "True"
      ]
     },
     "execution_count": 22,
     "metadata": {},
     "output_type": "execute_result"
    }
   ],
   "source": [
    "target_correcto(train_data, 'Adj Close', 'Target', 3)"
   ]
  },
  {
   "cell_type": "markdown",
   "id": "fbfb197a",
   "metadata": {},
   "source": [
    "Comprobamos que nuestra variable Target está correctamente definida. Buenas noticias."
   ]
  },
  {
   "cell_type": "markdown",
   "id": "49a0b738",
   "metadata": {},
   "source": [
    "## Modelado"
   ]
  },
  {
   "cell_type": "markdown",
   "id": "e3bb405a",
   "metadata": {},
   "source": [
    "En esta sección plantearemos diferentes algoritmos y, nos quedaremos con el que mejor resultados nos genere. Para ello, necesitaremos generar un conjunto de training, otro de validación y, finalmente, otro de testing."
   ]
  },
  {
   "cell_type": "code",
   "execution_count": 23,
   "id": "ede8321b",
   "metadata": {},
   "outputs": [],
   "source": [
    "X_train, X_test, y_train, y_test = train_test_split(train_data['Adj Close'], train_data['Target'], test_size=0.15, shuffle=True, random_state=8)"
   ]
  },
  {
   "cell_type": "code",
   "execution_count": 24,
   "id": "727b9674",
   "metadata": {},
   "outputs": [
    {
     "data": {
      "text/plain": [
       "((5570,), (5570,))"
      ]
     },
     "execution_count": 24,
     "metadata": {},
     "output_type": "execute_result"
    }
   ],
   "source": [
    "X_train.shape, y_train.shape"
   ]
  },
  {
   "cell_type": "code",
   "execution_count": 25,
   "id": "7c75b4cb",
   "metadata": {},
   "outputs": [],
   "source": [
    "X_train, y_train, X_test, y_test = pd.DataFrame(X_train), pd.DataFrame(y_train), pd.DataFrame(X_test), pd.DataFrame(y_test)"
   ]
  },
  {
   "cell_type": "markdown",
   "id": "4df830ed",
   "metadata": {},
   "source": [
    "En primer lugar plantearemos un RandomForest, conocido algoritmo de bagging de árboles de decisión"
   ]
  },
  {
   "cell_type": "code",
   "execution_count": 26,
   "id": "d57684ab",
   "metadata": {},
   "outputs": [
    {
     "name": "stdout",
     "output_type": "stream",
     "text": [
      "              precision    recall  f1-score   support\n",
      "\n",
      "           0       0.51      0.51      0.51       469\n",
      "           1       0.55      0.55      0.55       515\n",
      "\n",
      "    accuracy                           0.53       984\n",
      "   macro avg       0.53      0.53      0.53       984\n",
      "weighted avg       0.53      0.53      0.53       984\n",
      "\n"
     ]
    },
    {
     "data": {
      "image/png": "[encoded data removed]",
      "text/plain": [
       "<Figure size 360x360 with 2 Axes>"
      ]
     },
     "metadata": {},
     "output_type": "display_data"
    },
    {
     "data": {
      "image/png": "[encoded data removed]",
      "text/plain": [
       "<Figure size 360x216 with 1 Axes>"
      ]
     },
     "metadata": {},
     "output_type": "display_data"
    }
   ],
   "source": [
    "prediction_RF, predictions_proba_RF = model(X_train, y_train, X_test, RandomForestClassifier(), y_test)"
   ]
  },
  {
   "cell_type": "markdown",
   "id": "02393d64",
   "metadata": {},
   "source": [
    "Probemos ahora con un XGBoost:"
   ]
  },
  {
   "cell_type": "code",
   "execution_count": 27,
   "id": "4232f867",
   "metadata": {},
   "outputs": [
    {
     "name": "stdout",
     "output_type": "stream",
     "text": [
      "[18:12:37] WARNING: ../src/learner.cc:1115: Starting in XGBoost 1.3.0, the default evaluation metric used with the objective 'binary:logistic' was changed from 'error' to 'logloss'. Explicitly set eval_metric if you'd like to restore the old behavior.\n",
      "              precision    recall  f1-score   support\n",
      "\n",
      "           0       0.52      0.39      0.44       469\n",
      "           1       0.55      0.67      0.60       515\n",
      "\n",
      "    accuracy                           0.54       984\n",
      "   macro avg       0.53      0.53      0.52       984\n",
      "weighted avg       0.53      0.54      0.53       984\n",
      "\n"
     ]
    },
    {
     "data": {
      "image/png": "[encoded data removed]",
      "text/plain": [
       "<Figure size 360x360 with 2 Axes>"
      ]
     },
     "metadata": {},
     "output_type": "display_data"
    },
    {
     "data": {
      "image/png": "[encoded data removed]",
      "text/plain": [
       "<Figure size 360x216 with 1 Axes>"
      ]
     },
     "metadata": {},
     "output_type": "display_data"
    }
   ],
   "source": [
    "prediction_XGB, predictions_proba_XGB = model(X_train, y_train, X_test, XGBClassifier(), y_test)"
   ]
  },
  {
   "cell_type": "markdown",
   "id": "e2ff72d0",
   "metadata": {},
   "source": [
    "Probemos, finalmente, con un LightGBM"
   ]
  },
  {
   "cell_type": "code",
   "execution_count": 28,
   "id": "fa5ef50c",
   "metadata": {},
   "outputs": [
    {
     "name": "stdout",
     "output_type": "stream",
     "text": [
      "              precision    recall  f1-score   support\n",
      "\n",
      "           0       0.50      0.37      0.43       469\n",
      "           1       0.54      0.66      0.59       515\n",
      "\n",
      "    accuracy                           0.52       984\n",
      "   macro avg       0.52      0.52      0.51       984\n",
      "weighted avg       0.52      0.52      0.51       984\n",
      "\n"
     ]
    },
    {
     "data": {
      "image/png": "[encoded data removed]",
      "text/plain": [
       "<Figure size 360x360 with 2 Axes>"
      ]
     },
     "metadata": {},
     "output_type": "display_data"
    },
    {
     "data": {
      "image/png": "[encoded data removed]",
      "text/plain": [
       "<Figure size 360x216 with 1 Axes>"
      ]
     },
     "metadata": {},
     "output_type": "display_data"
    }
   ],
   "source": [
    "prediction_LGBM, predictions_proba_LGBM = model(X_train, y_train, X_test, lgb.LGBMClassifier(), y_test)"
   ]
  },
  {
   "cell_type": "markdown",
   "id": "19c3ab45",
   "metadata": {},
   "source": [
    "Comprobemos el valor de las métricas AUC y f1 para cada uno de los modelos:"
   ]
  },
  {
   "cell_type": "markdown",
   "id": "3303f379",
   "metadata": {},
   "source": [
    "Random Forest"
   ]
  },
  {
   "cell_type": "code",
   "execution_count": 29,
   "id": "966e7043",
   "metadata": {},
   "outputs": [],
   "source": [
    "f1_RF = f1_score(prediction_RF, y_test)"
   ]
  },
  {
   "cell_type": "code",
   "execution_count": 30,
   "id": "1c41b3bc",
   "metadata": {},
   "outputs": [],
   "source": [
    "AUC_RF = roc_auc_score(prediction_RF, y_test)"
   ]
  },
  {
   "cell_type": "markdown",
   "id": "0894c5e3",
   "metadata": {},
   "source": [
    "XGBoost"
   ]
  },
  {
   "cell_type": "code",
   "execution_count": 31,
   "id": "4a9819be",
   "metadata": {},
   "outputs": [],
   "source": [
    "f1_XGB = f1_score(prediction_XGB, y_test)"
   ]
  },
  {
   "cell_type": "code",
   "execution_count": 32,
   "id": "aa4f9d13",
   "metadata": {
    "scrolled": true
   },
   "outputs": [],
   "source": [
    "AUC_XGB = roc_auc_score(prediction_XGB, y_test)"
   ]
  },
  {
   "cell_type": "markdown",
   "id": "01296d91",
   "metadata": {},
   "source": [
    "LightGBM"
   ]
  },
  {
   "cell_type": "code",
   "execution_count": 33,
   "id": "01dde02b",
   "metadata": {},
   "outputs": [],
   "source": [
    "f1_LGBM = f1_score(prediction_LGBM, y_test)"
   ]
  },
  {
   "cell_type": "code",
   "execution_count": 34,
   "id": "0dbc948d",
   "metadata": {},
   "outputs": [],
   "source": [
    "AUC_LGBM = roc_auc_score(prediction_LGBM, y_test)"
   ]
  },
  {
   "cell_type": "code",
   "execution_count": 35,
   "id": "0ff67d9d",
   "metadata": {},
   "outputs": [],
   "source": [
    "df_comparar = pd.DataFrame({'RF' : [f1_RF, AUC_RF], 'XGB' : [f1_XGB, AUC_XGB], 'LGBM' : [f1_LGBM, AUC_LGBM]})"
   ]
  },
  {
   "cell_type": "code",
   "execution_count": 36,
   "id": "ba2c3230",
   "metadata": {},
   "outputs": [
    {
     "data": {
      "text/html": [
       "<div>\n",
       "<style scoped>\n",
       "    .dataframe tbody tr th:only-of-type {\n",
       "        vertical-align: middle;\n",
       "    }\n",
       "\n",
       "    .dataframe tbody tr th {\n",
       "        vertical-align: top;\n",
       "    }\n",
       "\n",
       "    .dataframe thead th {\n",
       "        text-align: right;\n",
       "    }\n",
       "</style>\n",
       "<table border=\"1\" class=\"dataframe\">\n",
       "  <thead>\n",
       "    <tr style=\"text-align: right;\">\n",
       "      <th></th>\n",
       "      <th>RF</th>\n",
       "      <th>XGB</th>\n",
       "      <th>LGBM</th>\n",
       "    </tr>\n",
       "  </thead>\n",
       "  <tbody>\n",
       "    <tr>\n",
       "      <th>f1</th>\n",
       "      <td>0.549172</td>\n",
       "      <td>0.600873</td>\n",
       "      <td>0.593043</td>\n",
       "    </tr>\n",
       "    <tr>\n",
       "      <th>AUC</th>\n",
       "      <td>0.528569</td>\n",
       "      <td>0.531490</td>\n",
       "      <td>0.519220</td>\n",
       "    </tr>\n",
       "  </tbody>\n",
       "</table>\n",
       "</div>"
      ],
      "text/plain": [
       "           RF       XGB      LGBM\n",
       "f1   0.549172  0.600873  0.593043\n",
       "AUC  0.528569  0.531490  0.519220"
      ]
     },
     "execution_count": 36,
     "metadata": {},
     "output_type": "execute_result"
    }
   ],
   "source": [
    "df_comparar.index = ['f1', 'AUC']\n",
    "df_comparar"
   ]
  },
  {
   "cell_type": "markdown",
   "id": "29334740",
   "metadata": {},
   "source": [
    "Ahora bien, ya vistos los resultados, comprobamos que el mejor modelo es el XGBoost. Veamos ahora cómo evolucionan las métricas en función del valor del threshold."
   ]
  },
  {
   "cell_type": "code",
   "execution_count": 37,
   "id": "4fcedfef",
   "metadata": {},
   "outputs": [],
   "source": [
    "XGB_medidas = maximize_scores(predictions_proba_XGB, y_test)"
   ]
  },
  {
   "cell_type": "markdown",
   "id": "cbd7cf51",
   "metadata": {},
   "source": [
    "Veamos con qué punto de corte se da el mejor rendimiento:"
   ]
  },
  {
   "cell_type": "code",
   "execution_count": 38,
   "id": "444d788b",
   "metadata": {},
   "outputs": [
    {
     "data": {
      "text/plain": [
       "<AxesSubplot:>"
      ]
     },
     "execution_count": 38,
     "metadata": {},
     "output_type": "execute_result"
    },
    {
     "data": {
      "image/png": "[encoded data removed]",
      "text/plain": [
       "<Figure size 936x432 with 1 Axes>"
      ]
     },
     "metadata": {},
     "output_type": "display_data"
    }
   ],
   "source": [
    "XGB_medidas.plot()"
   ]
  },
  {
   "cell_type": "markdown",
   "id": "fe6e44b5",
   "metadata": {},
   "source": [
    "Parece que se encuentra cerca de 0.5, hagamos zoom:"
   ]
  },
  {
   "cell_type": "code",
   "execution_count": 39,
   "id": "7fd2373b",
   "metadata": {},
   "outputs": [
    {
     "data": {
      "text/plain": [
       "<AxesSubplot:>"
      ]
     },
     "execution_count": 39,
     "metadata": {},
     "output_type": "execute_result"
    },
    {
     "data": {
      "image/png": "[encoded data removed]",
      "text/plain": [
       "<Figure size 936x432 with 1 Axes>"
      ]
     },
     "metadata": {},
     "output_type": "display_data"
    }
   ],
   "source": [
    "XGB_medidas[0.5:0.55].plot()"
   ]
  },
  {
   "cell_type": "markdown",
   "id": "929b8f55",
   "metadata": {},
   "source": [
    "Sin embargo, en esta ocasión nos centraremos en maximizar el f1_score, ya que es el principal objetivo "
   ]
  },
  {
   "cell_type": "markdown",
   "id": "adb1912b",
   "metadata": {},
   "source": [
    "### Optimización de hiperparámetros"
   ]
  },
  {
   "cell_type": "markdown",
   "id": "b45cae9c",
   "metadata": {},
   "source": [
    "Una vez visto que el mejor de los modelos es el XGBoost, procedemos a realizar la búsqueda de los mejores hiperparámetros del modelo para encontrar mejores resultados todavía.  "
   ]
  },
  {
   "cell_type": "markdown",
   "id": "eb37d5d8",
   "metadata": {},
   "source": [
    "Sin embargo, no intentaré maximizar el f1_score, sino que intentaré maximizar el roc_auc_score."
   ]
  },
  {
   "cell_type": "code",
   "execution_count": 40,
   "id": "2fb9e946",
   "metadata": {},
   "outputs": [],
   "source": [
    "XGB = Pipeline(steps=[('model', XGBClassifier(random_state=8, use_label_encoder=False))])"
   ]
  },
  {
   "cell_type": "code",
   "execution_count": 41,
   "id": "e810938e",
   "metadata": {},
   "outputs": [],
   "source": [
    "param_grid_xgb = {\n",
    "    \"model__subsample\":[0.5, 0.75, 1],\n",
    "    \"model__colsample_bytree\":[0.5, 0.75, 1],\n",
    "    \"model__max_depth\":[6, 10, 14, 18],\n",
    "    \"model__min_child_weight\":[1,5,15],\n",
    "    \"model__learning_rate\":[0.3, 0.1, 0.03, 0.01],\n",
    "    \"model__n_estimators\":[50, 100, 150]\n",
    "    }"
   ]
  },
  {
   "cell_type": "code",
   "execution_count": null,
   "id": "c0919f2e",
   "metadata": {
    "scrolled": true
   },
   "outputs": [],
   "source": [
    "CV = RandomizedSearchCV(XGB, param_grid_xgb, cv=10, random_state=42, n_jobs=2, scoring='f1', )\n",
    "                  \n",
    "BM_XGB = CV.fit(X_train, y_train)  \n",
    "print(CV.best_params_)    "
   ]
  },
  {
   "cell_type": "markdown",
   "id": "240c363d",
   "metadata": {},
   "source": [
    "Consideremos entonces el modelo lightgbm con los siguientes hiperparámetros:\n",
    "- subsample = 0.5\n",
    "- n_estimators = 150\n",
    "- min_child_weight = 1\n",
    "- max_depth = 6\n",
    "- learning_rate = 0.01\n",
    "- colsample_bytree = 0.5"
   ]
  },
  {
   "cell_type": "code",
   "execution_count": null,
   "id": "ae247529",
   "metadata": {},
   "outputs": [],
   "source": [
    "prediction_XGB, predictions_proba_XGB = model(X_train, y_train, X_test, XGBClassifier(subsample=0.5, n_estimators=150, min_child_weight=1, max_depth=6, learning_rate=0.01, colsample_bytree=0.55), y_test)"
   ]
  },
  {
   "cell_type": "code",
   "execution_count": null,
   "id": "d7a40268",
   "metadata": {
    "scrolled": true
   },
   "outputs": [],
   "source": [
    "f1_score(prediction_XGB, y_test)"
   ]
  },
  {
   "cell_type": "markdown",
   "id": "933eda26",
   "metadata": {},
   "source": [
    "Finalmente, se concluye que el mejor de los modelos es el modelo XGBoost con la optimización de hiperparámetros. Con este modelo se llega a obtener un valor de f1 de 0.649."
   ]
  },
  {
   "cell_type": "markdown",
   "id": "c9326a27",
   "metadata": {},
   "source": [
    "## Predicción del conjunto de Test"
   ]
  },
  {
   "cell_type": "code",
   "execution_count": null,
   "id": "5de2232a",
   "metadata": {},
   "outputs": [],
   "source": [
    "test_data = pd.read_csv('../data/test_x.csv')"
   ]
  },
  {
   "cell_type": "code",
   "execution_count": null,
   "id": "421244ce",
   "metadata": {},
   "outputs": [],
   "source": [
    "final_results = test_data[:]"
   ]
  },
  {
   "cell_type": "code",
   "execution_count": null,
   "id": "203ae88a",
   "metadata": {},
   "outputs": [],
   "source": [
    "final_results.index = final_results['test_index']"
   ]
  },
  {
   "cell_type": "code",
   "execution_count": null,
   "id": "d46c6cc4",
   "metadata": {},
   "outputs": [],
   "source": [
    "test_data.index = test_data['Date']\n",
    "test_data = test_data[['Adj Close']]"
   ]
  },
  {
   "cell_type": "code",
   "execution_count": null,
   "id": "6de9bdfa",
   "metadata": {},
   "outputs": [],
   "source": [
    "test_data.head()"
   ]
  },
  {
   "cell_type": "code",
   "execution_count": null,
   "id": "22dce610",
   "metadata": {},
   "outputs": [],
   "source": [
    "predictions = BM_XGB.predict(test_data)"
   ]
  },
  {
   "cell_type": "code",
   "execution_count": null,
   "id": "228868e4",
   "metadata": {},
   "outputs": [],
   "source": [
    "final_results['Target'] = predictions"
   ]
  },
  {
   "cell_type": "code",
   "execution_count": null,
   "id": "2329c8a0",
   "metadata": {},
   "outputs": [],
   "source": [
    "final_results = final_results[['Target']]"
   ]
  },
  {
   "cell_type": "markdown",
   "id": "db47f6a0",
   "metadata": {},
   "source": [
    "### Guardado de resultados"
   ]
  },
  {
   "cell_type": "code",
   "execution_count": null,
   "id": "1f8f3904",
   "metadata": {},
   "outputs": [],
   "source": [
    "final_results.to_csv('predictions.csv')"
   ]
  },
  {
   "cell_type": "code",
   "execution_count": null,
   "id": "ad9630de",
   "metadata": {},
   "outputs": [],
   "source": [
    "final_results.to_json('predictions.json')"
   ]
  }
 ],
 "metadata": {
  "kernelspec": {
   "display_name": "Python [conda env:ML_big_practice]",
   "language": "python",
   "name": "conda-env-ML_big_practice-py"
  },
  "language_info": {
   "codemirror_mode": {
    "name": "ipython",
    "version": 3
   },
   "file_extension": ".py",
   "mimetype": "text/x-python",
   "name": "python",
   "nbconvert_exporter": "python",
   "pygments_lexer": "ipython3",
   "version": "3.9.7"
  }
 },
 "nbformat": 4,
 "nbformat_minor": 5
}
